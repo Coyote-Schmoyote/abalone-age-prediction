{
  "nbformat": 4,
  "nbformat_minor": 0,
  "metadata": {
    "colab": {
      "name": "abalone-project.ipynb",
      "provenance": [],
      "collapsed_sections": [],
      "mount_file_id": "1LaPYv6-9fyaSoHuqYVK3uzLYx2CFqKgt",
      "authorship_tag": "ABX9TyOdZjQ2muvdK3YyRqTxO3Pl",
      "include_colab_link": true
    },
    "kernelspec": {
      "name": "python3",
      "display_name": "Python 3"
    },
    "language_info": {
      "name": "python"
    }
  },
  "cells": [
    {
      "cell_type": "markdown",
      "metadata": {
        "id": "view-in-github",
        "colab_type": "text"
      },
      "source": [
        "<a href=\"https://colab.research.google.com/github/Coyote-Schmoyote/abalone-age-prediction/blob/main/abalone_project.ipynb\" target=\"_parent\"><img src=\"https://colab.research.google.com/assets/colab-badge.svg\" alt=\"Open In Colab\"/></a>"
      ]
    },
    {
      "cell_type": "markdown",
      "source": [
        "## Abalone Project\n",
        "\n",
        "### 1. Problem Definition\n",
        "Predict the age of abalone mollusks based on the attributes. \n",
        "> Age is calculated by adding +1.5 to the number of rings.\n",
        "\n",
        "### 2. Data\n",
        "The data is downloaded from the Kaggle Abalone Dataset: https://www.kaggle.com/datasets/rodolfomendes/abalone-dataset \n",
        "\n",
        "The dataset was donated in 1995 by S. Waugh, University of Tasmania. It is originally based on a study \"The Population Biology of Abalone in Tasmania\" by N. J. Wawick, T. L. Sellers, S. R. Talbot, A. J. Cawthorn and W. B. Ford (1994).\n",
        "The original dataset can be found here: https://archive.ics.uci.edu/ml/datasets/abalone \n",
        "\n",
        "### 3. Features\n",
        "The data consists of 9 features:\n",
        "* Sex (M-Male, F-Female, I-Infant)\n",
        "* Length (longest shell measurement)\n",
        "* Diameter (perpendicular to length)\n",
        "* Height (with meat in shell)\n",
        "* Whole weight (swhole abalone)\n",
        "* Shucked weight (weight of meat)\n",
        "* Viscera weight (gut weight after bleeding)\n",
        "* Shell weight (after being dried)\n",
        "* Rings (+1.5 gives the age in years)\n",
        "\n",
        "### 4. Approach\n",
        "To solve this problem, we are going to complete the following steps:\n",
        "* Explore and get familiar with the data\n",
        "* Visualize data\n",
        "* Model data → clean and transform data to make it suitable for machine learning\n",
        "* Choose a machine learning model and train it\n",
        "* Evaluate the scores\n",
        "* Tune hyperparameters\n",
        "* Evaluate and compare the scores\n",
        "* Visualize the results"
      ],
      "metadata": {
        "id": "HEzOrd1APlfY"
      }
    },
    {
      "cell_type": "code",
      "source": [
        "# Import the tools\n",
        "import pandas as pd\n",
        "import numpy as np \n",
        "import matplotlib.pyplot as plt\n",
        "import sklearn "
      ],
      "metadata": {
        "id": "vdRNUqjpN2iy"
      },
      "execution_count": null,
      "outputs": []
    },
    {
      "cell_type": "markdown",
      "source": [
        "# Exploratory Data Analysis (EDA)\n",
        "Before starting to work on a project, let‘s explore the data and get more familiar with it. There are many ways we can take a closer look at our data. We can check `data.info()` to see the general information about the dataframe, `data.head()` to see the first 5 rows, see the columns with `data.columns`, or see data counts in each column with `data.value_counts()`. There are amny more ways to explore the data, and it will depend on the type of problem and the type of data. Another good way to understand what data we are working with is by visualizing it with `matplotlib` library."
      ],
      "metadata": {
        "id": "H6MsUMEYSj51"
      }
    },
    {
      "cell_type": "code",
      "execution_count": null,
      "metadata": {
        "id": "DUtvPdRZNLXb"
      },
      "outputs": [],
      "source": [
        "#  data\n",
        "data = pd.read_csv(\"drive/MyDrive/ml-projects/abalone-project/data/abalone.csv\")"
      ]
    },
    {
      "cell_type": "code",
      "source": [
        "# see the whole dataframe\n",
        "data"
      ],
      "metadata": {
        "colab": {
          "base_uri": "https://localhost:8080/",
          "height": 467
        },
        "id": "h3gugqNwOVO7",
        "outputId": "98cd05ca-0c6c-4616-f266-4ddf62062350"
      },
      "execution_count": null,
      "outputs": [
        {
          "output_type": "execute_result",
          "data": {
            "text/plain": [
              "     Sex  Length  Diameter  Height  Whole weight  Shucked weight  \\\n",
              "0      M   0.455     0.365   0.095        0.5140          0.2245   \n",
              "1      M   0.350     0.265   0.090        0.2255          0.0995   \n",
              "2      F   0.530     0.420   0.135        0.6770          0.2565   \n",
              "3      M   0.440     0.365   0.125        0.5160          0.2155   \n",
              "4      I   0.330     0.255   0.080        0.2050          0.0895   \n",
              "...   ..     ...       ...     ...           ...             ...   \n",
              "4172   F   0.565     0.450   0.165        0.8870          0.3700   \n",
              "4173   M   0.590     0.440   0.135        0.9660          0.4390   \n",
              "4174   M   0.600     0.475   0.205        1.1760          0.5255   \n",
              "4175   F   0.625     0.485   0.150        1.0945          0.5310   \n",
              "4176   M   0.710     0.555   0.195        1.9485          0.9455   \n",
              "\n",
              "      Viscera weight  Shell weight  Rings  \n",
              "0             0.1010        0.1500     15  \n",
              "1             0.0485        0.0700      7  \n",
              "2             0.1415        0.2100      9  \n",
              "3             0.1140        0.1550     10  \n",
              "4             0.0395        0.0550      7  \n",
              "...              ...           ...    ...  \n",
              "4172          0.2390        0.2490     11  \n",
              "4173          0.2145        0.2605     10  \n",
              "4174          0.2875        0.3080      9  \n",
              "4175          0.2610        0.2960     10  \n",
              "4176          0.3765        0.4950     12  \n",
              "\n",
              "[4177 rows x 9 columns]"
            ],
            "text/html": [
              "\n",
              "  <div id=\"df-d47ca4fe-7222-4521-b4d9-f04588b45810\">\n",
              "    <div class=\"colab-df-container\">\n",
              "      <div>\n",
              "<style scoped>\n",
              "    .dataframe tbody tr th:only-of-type {\n",
              "        vertical-align: middle;\n",
              "    }\n",
              "\n",
              "    .dataframe tbody tr th {\n",
              "        vertical-align: top;\n",
              "    }\n",
              "\n",
              "    .dataframe thead th {\n",
              "        text-align: right;\n",
              "    }\n",
              "</style>\n",
              "<table border=\"1\" class=\"dataframe\">\n",
              "  <thead>\n",
              "    <tr style=\"text-align: right;\">\n",
              "      <th></th>\n",
              "      <th>Sex</th>\n",
              "      <th>Length</th>\n",
              "      <th>Diameter</th>\n",
              "      <th>Height</th>\n",
              "      <th>Whole weight</th>\n",
              "      <th>Shucked weight</th>\n",
              "      <th>Viscera weight</th>\n",
              "      <th>Shell weight</th>\n",
              "      <th>Rings</th>\n",
              "    </tr>\n",
              "  </thead>\n",
              "  <tbody>\n",
              "    <tr>\n",
              "      <th>0</th>\n",
              "      <td>M</td>\n",
              "      <td>0.455</td>\n",
              "      <td>0.365</td>\n",
              "      <td>0.095</td>\n",
              "      <td>0.5140</td>\n",
              "      <td>0.2245</td>\n",
              "      <td>0.1010</td>\n",
              "      <td>0.1500</td>\n",
              "      <td>15</td>\n",
              "    </tr>\n",
              "    <tr>\n",
              "      <th>1</th>\n",
              "      <td>M</td>\n",
              "      <td>0.350</td>\n",
              "      <td>0.265</td>\n",
              "      <td>0.090</td>\n",
              "      <td>0.2255</td>\n",
              "      <td>0.0995</td>\n",
              "      <td>0.0485</td>\n",
              "      <td>0.0700</td>\n",
              "      <td>7</td>\n",
              "    </tr>\n",
              "    <tr>\n",
              "      <th>2</th>\n",
              "      <td>F</td>\n",
              "      <td>0.530</td>\n",
              "      <td>0.420</td>\n",
              "      <td>0.135</td>\n",
              "      <td>0.6770</td>\n",
              "      <td>0.2565</td>\n",
              "      <td>0.1415</td>\n",
              "      <td>0.2100</td>\n",
              "      <td>9</td>\n",
              "    </tr>\n",
              "    <tr>\n",
              "      <th>3</th>\n",
              "      <td>M</td>\n",
              "      <td>0.440</td>\n",
              "      <td>0.365</td>\n",
              "      <td>0.125</td>\n",
              "      <td>0.5160</td>\n",
              "      <td>0.2155</td>\n",
              "      <td>0.1140</td>\n",
              "      <td>0.1550</td>\n",
              "      <td>10</td>\n",
              "    </tr>\n",
              "    <tr>\n",
              "      <th>4</th>\n",
              "      <td>I</td>\n",
              "      <td>0.330</td>\n",
              "      <td>0.255</td>\n",
              "      <td>0.080</td>\n",
              "      <td>0.2050</td>\n",
              "      <td>0.0895</td>\n",
              "      <td>0.0395</td>\n",
              "      <td>0.0550</td>\n",
              "      <td>7</td>\n",
              "    </tr>\n",
              "    <tr>\n",
              "      <th>...</th>\n",
              "      <td>...</td>\n",
              "      <td>...</td>\n",
              "      <td>...</td>\n",
              "      <td>...</td>\n",
              "      <td>...</td>\n",
              "      <td>...</td>\n",
              "      <td>...</td>\n",
              "      <td>...</td>\n",
              "      <td>...</td>\n",
              "    </tr>\n",
              "    <tr>\n",
              "      <th>4172</th>\n",
              "      <td>F</td>\n",
              "      <td>0.565</td>\n",
              "      <td>0.450</td>\n",
              "      <td>0.165</td>\n",
              "      <td>0.8870</td>\n",
              "      <td>0.3700</td>\n",
              "      <td>0.2390</td>\n",
              "      <td>0.2490</td>\n",
              "      <td>11</td>\n",
              "    </tr>\n",
              "    <tr>\n",
              "      <th>4173</th>\n",
              "      <td>M</td>\n",
              "      <td>0.590</td>\n",
              "      <td>0.440</td>\n",
              "      <td>0.135</td>\n",
              "      <td>0.9660</td>\n",
              "      <td>0.4390</td>\n",
              "      <td>0.2145</td>\n",
              "      <td>0.2605</td>\n",
              "      <td>10</td>\n",
              "    </tr>\n",
              "    <tr>\n",
              "      <th>4174</th>\n",
              "      <td>M</td>\n",
              "      <td>0.600</td>\n",
              "      <td>0.475</td>\n",
              "      <td>0.205</td>\n",
              "      <td>1.1760</td>\n",
              "      <td>0.5255</td>\n",
              "      <td>0.2875</td>\n",
              "      <td>0.3080</td>\n",
              "      <td>9</td>\n",
              "    </tr>\n",
              "    <tr>\n",
              "      <th>4175</th>\n",
              "      <td>F</td>\n",
              "      <td>0.625</td>\n",
              "      <td>0.485</td>\n",
              "      <td>0.150</td>\n",
              "      <td>1.0945</td>\n",
              "      <td>0.5310</td>\n",
              "      <td>0.2610</td>\n",
              "      <td>0.2960</td>\n",
              "      <td>10</td>\n",
              "    </tr>\n",
              "    <tr>\n",
              "      <th>4176</th>\n",
              "      <td>M</td>\n",
              "      <td>0.710</td>\n",
              "      <td>0.555</td>\n",
              "      <td>0.195</td>\n",
              "      <td>1.9485</td>\n",
              "      <td>0.9455</td>\n",
              "      <td>0.3765</td>\n",
              "      <td>0.4950</td>\n",
              "      <td>12</td>\n",
              "    </tr>\n",
              "  </tbody>\n",
              "</table>\n",
              "<p>4177 rows × 9 columns</p>\n",
              "</div>\n",
              "      <button class=\"colab-df-convert\" onclick=\"convertToInteractive('df-d47ca4fe-7222-4521-b4d9-f04588b45810')\"\n",
              "              title=\"Convert this dataframe to an interactive table.\"\n",
              "              style=\"display:none;\">\n",
              "        \n",
              "  <svg xmlns=\"http://www.w3.org/2000/svg\" height=\"24px\"viewBox=\"0 0 24 24\"\n",
              "       width=\"24px\">\n",
              "    <path d=\"M0 0h24v24H0V0z\" fill=\"none\"/>\n",
              "    <path d=\"M18.56 5.44l.94 2.06.94-2.06 2.06-.94-2.06-.94-.94-2.06-.94 2.06-2.06.94zm-11 1L8.5 8.5l.94-2.06 2.06-.94-2.06-.94L8.5 2.5l-.94 2.06-2.06.94zm10 10l.94 2.06.94-2.06 2.06-.94-2.06-.94-.94-2.06-.94 2.06-2.06.94z\"/><path d=\"M17.41 7.96l-1.37-1.37c-.4-.4-.92-.59-1.43-.59-.52 0-1.04.2-1.43.59L10.3 9.45l-7.72 7.72c-.78.78-.78 2.05 0 2.83L4 21.41c.39.39.9.59 1.41.59.51 0 1.02-.2 1.41-.59l7.78-7.78 2.81-2.81c.8-.78.8-2.07 0-2.86zM5.41 20L4 18.59l7.72-7.72 1.47 1.35L5.41 20z\"/>\n",
              "  </svg>\n",
              "      </button>\n",
              "      \n",
              "  <style>\n",
              "    .colab-df-container {\n",
              "      display:flex;\n",
              "      flex-wrap:wrap;\n",
              "      gap: 12px;\n",
              "    }\n",
              "\n",
              "    .colab-df-convert {\n",
              "      background-color: #E8F0FE;\n",
              "      border: none;\n",
              "      border-radius: 50%;\n",
              "      cursor: pointer;\n",
              "      display: none;\n",
              "      fill: #1967D2;\n",
              "      height: 32px;\n",
              "      padding: 0 0 0 0;\n",
              "      width: 32px;\n",
              "    }\n",
              "\n",
              "    .colab-df-convert:hover {\n",
              "      background-color: #E2EBFA;\n",
              "      box-shadow: 0px 1px 2px rgba(60, 64, 67, 0.3), 0px 1px 3px 1px rgba(60, 64, 67, 0.15);\n",
              "      fill: #174EA6;\n",
              "    }\n",
              "\n",
              "    [theme=dark] .colab-df-convert {\n",
              "      background-color: #3B4455;\n",
              "      fill: #D2E3FC;\n",
              "    }\n",
              "\n",
              "    [theme=dark] .colab-df-convert:hover {\n",
              "      background-color: #434B5C;\n",
              "      box-shadow: 0px 1px 3px 1px rgba(0, 0, 0, 0.15);\n",
              "      filter: drop-shadow(0px 1px 2px rgba(0, 0, 0, 0.3));\n",
              "      fill: #FFFFFF;\n",
              "    }\n",
              "  </style>\n",
              "\n",
              "      <script>\n",
              "        const buttonEl =\n",
              "          document.querySelector('#df-d47ca4fe-7222-4521-b4d9-f04588b45810 button.colab-df-convert');\n",
              "        buttonEl.style.display =\n",
              "          google.colab.kernel.accessAllowed ? 'block' : 'none';\n",
              "\n",
              "        async function convertToInteractive(key) {\n",
              "          const element = document.querySelector('#df-d47ca4fe-7222-4521-b4d9-f04588b45810');\n",
              "          const dataTable =\n",
              "            await google.colab.kernel.invokeFunction('convertToInteractive',\n",
              "                                                     [key], {});\n",
              "          if (!dataTable) return;\n",
              "\n",
              "          const docLinkHtml = 'Like what you see? Visit the ' +\n",
              "            '<a target=\"_blank\" href=https://colab.research.google.com/notebooks/data_table.ipynb>data table notebook</a>'\n",
              "            + ' to learn more about interactive tables.';\n",
              "          element.innerHTML = '';\n",
              "          dataTable['output_type'] = 'display_data';\n",
              "          await google.colab.output.renderOutput(dataTable, element);\n",
              "          const docLink = document.createElement('div');\n",
              "          docLink.innerHTML = docLinkHtml;\n",
              "          element.appendChild(docLink);\n",
              "        }\n",
              "      </script>\n",
              "    </div>\n",
              "  </div>\n",
              "  "
            ]
          },
          "metadata": {},
          "execution_count": 240
        }
      ]
    },
    {
      "cell_type": "code",
      "source": [
        "#check data info\n",
        "data.info()"
      ],
      "metadata": {
        "colab": {
          "base_uri": "https://localhost:8080/"
        },
        "id": "_XVcCo-uPcw3",
        "outputId": "2626a1dd-35e5-4d21-99e4-c3a77d0e4db7"
      },
      "execution_count": null,
      "outputs": [
        {
          "output_type": "stream",
          "name": "stdout",
          "text": [
            "<class 'pandas.core.frame.DataFrame'>\n",
            "RangeIndex: 4177 entries, 0 to 4176\n",
            "Data columns (total 9 columns):\n",
            " #   Column          Non-Null Count  Dtype  \n",
            "---  ------          --------------  -----  \n",
            " 0   Sex             4177 non-null   object \n",
            " 1   Length          4177 non-null   float64\n",
            " 2   Diameter        4177 non-null   float64\n",
            " 3   Height          4177 non-null   float64\n",
            " 4   Whole weight    4177 non-null   float64\n",
            " 5   Shucked weight  4177 non-null   float64\n",
            " 6   Viscera weight  4177 non-null   float64\n",
            " 7   Shell weight    4177 non-null   float64\n",
            " 8   Rings           4177 non-null   int64  \n",
            "dtypes: float64(7), int64(1), object(1)\n",
            "memory usage: 293.8+ KB\n"
          ]
        }
      ]
    },
    {
      "cell_type": "code",
      "source": [
        "# Check for missing values\n",
        "data.isna().sum()"
      ],
      "metadata": {
        "colab": {
          "base_uri": "https://localhost:8080/"
        },
        "id": "97ypEi1qSr91",
        "outputId": "3303a95d-9739-4fe5-f5b3-a3f9face5adf"
      },
      "execution_count": null,
      "outputs": [
        {
          "output_type": "execute_result",
          "data": {
            "text/plain": [
              "Sex               0\n",
              "Length            0\n",
              "Diameter          0\n",
              "Height            0\n",
              "Whole weight      0\n",
              "Shucked weight    0\n",
              "Viscera weight    0\n",
              "Shell weight      0\n",
              "Rings             0\n",
              "dtype: int64"
            ]
          },
          "metadata": {},
          "execution_count": 242
        }
      ]
    },
    {
      "cell_type": "markdown",
      "source": [
        "## Visualizing the data\n",
        "To understand better our data, it is a good idea to visualize it. We can follow our instincts. In this case, I have a hunch that sex, diameter, and whole weight can be important for determining abalone mollusks‘ age.\n",
        "\n",
        "#### Matplotlib library\n",
        "For data visualization, we use the matplotlib library. We already imported it as `plt` in the beginning of this notebook. \n",
        "\n",
        "**Code**\n",
        "When making a plot, we have two core objects: `fig` (short for figure) and `ax` (short for axes). \n",
        "* `fig` is like a frame, which we can resize and reshape, but we cannot draw on it.\n",
        "* `ax` (also called subplot) is the canvas. We can have many subplots in one figure. \n",
        "* `bar`, `barh`, `pie`, and `scatter` are some of the examples of plot types in matplotlib. More information here: https://matplotlib.org/3.5.0/api/axes_api.html \n",
        "\n",
        "#### Sex and Rings columns bar chart\n",
        "`bar` charts are used to compare things between differnt groups. Here, we want to compare 3 different groups: female, male, and infant abalones, and the number of rings each group has."
      ],
      "metadata": {
        "id": "KynfcoxxULds"
      }
    },
    {
      "cell_type": "code",
      "source": [
        "# Create the fig, ax\n",
        "fig, ax = plt.subplots()\n",
        "\n",
        "# Create bar plot of first 1000 data entries \n",
        "ax.bar(data[\"Sex\"][:1000], data[\"Rings\"][:1000], color=\"peru\")\n",
        "\n",
        "#Add legend: x is horizonatal axis, y is vertical\n",
        "ax.set(title=\"Sex and Nr. of Rings\", \n",
        "       xlabel=\"Sex\",\n",
        "       ylabel=\"Number of rings\");"
      ],
      "metadata": {
        "colab": {
          "base_uri": "https://localhost:8080/",
          "height": 295
        },
        "id": "OBML69UhS12V",
        "outputId": "7bad696d-45f4-40cd-a036-a05666420b2a"
      },
      "execution_count": null,
      "outputs": [
        {
          "output_type": "display_data",
          "data": {
            "text/plain": [
              "<Figure size 432x288 with 1 Axes>"
            ],
            "image/png": "[encoded data removed]"
          },
          "metadata": {
            "needs_background": "light"
          }
        }
      ]
    },
    {
      "cell_type": "markdown",
      "source": [
        "### Diameter and Rings scatter plot\n",
        "`scatter` plots are used to determine wheter two variables have a relationship or not. Here, I want to see if diameter and number or rings mean something together."
      ],
      "metadata": {
        "id": "e0EtKvP0bE8M"
      }
    },
    {
      "cell_type": "code",
      "source": [
        "# Create a fig, ax\n",
        "fig, ax = plt.subplots()\n",
        "\n",
        "# Create a scatter plot with first 1000 data points\n",
        "ax.scatter(data[\"Diameter\"][:1000], data[\"Rings\"][:1000], color=\"darkmagenta\")\n",
        "\n",
        "# Create a legend\n",
        "ax.set(title=\"Diameter and Nr. of Rings\",\n",
        "       xlabel=\"Diameter\",\n",
        "       ylabel=\"Nr. of Rings\");"
      ],
      "metadata": {
        "colab": {
          "base_uri": "https://localhost:8080/",
          "height": 295
        },
        "id": "eRNar0HzUF3I",
        "outputId": "044cfa1b-9d16-430f-8dda-cf210c032bda"
      },
      "execution_count": null,
      "outputs": [
        {
          "output_type": "display_data",
          "data": {
            "text/plain": [
              "<Figure size 432x288 with 1 Axes>"
            ],
            "image/png": "[encoded data removed]"
          },
          "metadata": {
            "needs_background": "light"
          }
        }
      ]
    },
    {
      "cell_type": "markdown",
      "source": [
        "### Whole weight and nr. of rings scatter plot\n",
        "In this scatter plot, I am trying to find a relationship between the whole weight of an abalone mollusk, and its number of rings."
      ],
      "metadata": {
        "id": "3Ab-xwTdcMAs"
      }
    },
    {
      "cell_type": "code",
      "source": [
        "# Create fig, ax\n",
        "fig, ax = plt.subplots()\n",
        "\n",
        "# Create scatter plot of first 1000 data points\n",
        "ax.scatter(data[\"Whole weight\"][:1000], data[\"Rings\"][:1000], color=\"teal\")\n",
        "\n",
        "#Create a legend\n",
        "ax.set(title=\"Whole weight and Nr. of Rings\",\n",
        "       xlabel=\"Whole weight\",\n",
        "       ylabel=\"Number of rings\");"
      ],
      "metadata": {
        "colab": {
          "base_uri": "https://localhost:8080/",
          "height": 295
        },
        "id": "FWrYHxnAVaOs",
        "outputId": "87fe43a2-1db5-446a-e94e-2ff2589768b6"
      },
      "execution_count": null,
      "outputs": [
        {
          "output_type": "display_data",
          "data": {
            "text/plain": [
              "<Figure size 432x288 with 1 Axes>"
            ],
            "image/png": "[encoded data removed]"
          },
          "metadata": {
            "needs_background": "light"
          }
        }
      ]
    },
    {
      "cell_type": "markdown",
      "source": [
        "### We can also plot all of these subplots together in one figure, to have a better comparison.\n",
        "\n",
        "We can do it using `ncols` (number of columns) and `nrows` (number of rows) parameters."
      ],
      "metadata": {
        "id": "j3qicisudp0o"
      }
    },
    {
      "cell_type": "code",
      "source": [
        "# Create a fig, ax\n",
        "fig, (ax1, ax2, ax3) = plt.subplots(1, 3, figsize=(15, 5))\n",
        "fig.tight_layout()  #makes the columns more spaced out\n",
        "\n",
        "#Sex and nr. of Rings\n",
        "ax1.bar(data[\"Sex\"][:1000], data[\"Rings\"][:1000], color=\"peru\")\n",
        "ax1.set(title=\"Sex and Nr. of Rings\", \n",
        "       xlabel=\"Sex\",\n",
        "       ylabel=\"Number of rings\")\n",
        "\n",
        "# Diameter and nr. of Rings\n",
        "ax2.scatter(data[\"Diameter\"][:1000], data[\"Rings\"][:1000], color=\"darkmagenta\")\n",
        "ax2.set(title=\"Diameter and Nr. of Rings\",\n",
        "       xlabel=\"Diameter\",\n",
        "       ylabel=\"Nr. of Rings\")\n",
        "\n",
        "# Whole weight and nr. of Rings\n",
        "ax3.scatter(data[\"Whole weight\"][:1000], data[\"Rings\"][:1000], color=\"teal\")\n",
        "ax3.set(title=\"Whole weight and Nr. of Rings\",\n",
        "       xlabel=\"Whole weight\",\n",
        "       ylabel=\"Number of rings\");"
      ],
      "metadata": {
        "colab": {
          "base_uri": "https://localhost:8080/",
          "height": 300
        },
        "id": "z8b7uEHedxrg",
        "outputId": "896a1e03-1bfc-4711-d101-6b0c01d8314a"
      },
      "execution_count": null,
      "outputs": [
        {
          "output_type": "display_data",
          "data": {
            "text/plain": [
              "<Figure size 1080x360 with 3 Axes>"
            ],
            "image/png": "[encoded data removed]"
          },
          "metadata": {
            "needs_background": "light"
          }
        }
      ]
    },
    {
      "cell_type": "markdown",
      "source": [
        "**Conclusion** : We can see from the data visualization that in general, the bigger the diameter and the weight of an abalone mollusk, the more likely it is to have more rings (and be older). There is also a slight tendency for female mollusks to live longer than male mollusks.\n",
        "\n",
        ">Bonus → List of colors in matplotlib: https://matplotlib.org/3.5.0/gallery/color/named_colors.html\n",
        "\n",
        "## Data modelling\n",
        "\n",
        "Before we start building a macine learning model, we need to adjust our data. What we need to do:\n",
        "* Make sure there are no missing values\n",
        "* Make sure all our data is numerical\n",
        "* Create age column: nr. of rings + 1.5\n",
        "\n"
      ],
      "metadata": {
        "id": "B-oMdrWIWhvm"
      }
    },
    {
      "cell_type": "code",
      "source": [
        "# Check for missing values\n",
        "data.isna().sum()"
      ],
      "metadata": {
        "colab": {
          "base_uri": "https://localhost:8080/"
        },
        "id": "THukkKtQiGeL",
        "outputId": "9ac12a06-2c5e-4822-b3b3-4541f6bf5f24"
      },
      "execution_count": null,
      "outputs": [
        {
          "output_type": "execute_result",
          "data": {
            "text/plain": [
              "Sex               0\n",
              "Length            0\n",
              "Diameter          0\n",
              "Height            0\n",
              "Whole weight      0\n",
              "Shucked weight    0\n",
              "Viscera weight    0\n",
              "Shell weight      0\n",
              "Rings             0\n",
              "dtype: int64"
            ]
          },
          "metadata": {},
          "execution_count": 247
        }
      ]
    },
    {
      "cell_type": "markdown",
      "source": [
        "Ok, we have no missing values. That‘s good! Now we can move on to step 2:\n",
        "* Make sure all our data is numerical.\n",
        "At the most basic level, machines only understand numbers. So for us to build a machine learning model, we need to convert any non-numerical categories to numbers. In this case, our only non-numerical category is sex. The datatype of sex column is `object`."
      ],
      "metadata": {
        "id": "O4X1rvXyiN4x"
      }
    },
    {
      "cell_type": "code",
      "source": [
        "data.info()"
      ],
      "metadata": {
        "colab": {
          "base_uri": "https://localhost:8080/"
        },
        "id": "jmeu6GX6irDS",
        "outputId": "707dab87-bf9c-4282-e98d-745a35b8571a"
      },
      "execution_count": null,
      "outputs": [
        {
          "output_type": "stream",
          "name": "stdout",
          "text": [
            "<class 'pandas.core.frame.DataFrame'>\n",
            "RangeIndex: 4177 entries, 0 to 4176\n",
            "Data columns (total 9 columns):\n",
            " #   Column          Non-Null Count  Dtype  \n",
            "---  ------          --------------  -----  \n",
            " 0   Sex             4177 non-null   object \n",
            " 1   Length          4177 non-null   float64\n",
            " 2   Diameter        4177 non-null   float64\n",
            " 3   Height          4177 non-null   float64\n",
            " 4   Whole weight    4177 non-null   float64\n",
            " 5   Shucked weight  4177 non-null   float64\n",
            " 6   Viscera weight  4177 non-null   float64\n",
            " 7   Shell weight    4177 non-null   float64\n",
            " 8   Rings           4177 non-null   int64  \n",
            "dtypes: float64(7), int64(1), object(1)\n",
            "memory usage: 293.8+ KB\n"
          ]
        }
      ]
    },
    {
      "cell_type": "markdown",
      "source": [
        "Another way to check which columns are not numbers is through using a `pandas` function in a for loop:"
      ],
      "metadata": {
        "id": "5sKqrnNzjIg8"
      }
    },
    {
      "cell_type": "code",
      "source": [
        "# Check which columns have string values\n",
        "for label, content in data.items():\n",
        "  if pd.api.types.is_string_dtype(content):\n",
        "    print(label)"
      ],
      "metadata": {
        "colab": {
          "base_uri": "https://localhost:8080/"
        },
        "id": "ZleaJG2AZqQU",
        "outputId": "1ad0d0d3-7a07-4cc0-ca9f-37292b9e8afc"
      },
      "execution_count": null,
      "outputs": [
        {
          "output_type": "stream",
          "name": "stdout",
          "text": [
            "Sex\n"
          ]
        }
      ]
    },
    {
      "cell_type": "markdown",
      "source": [
        "Sex column has 3 genders: female (F)、male (M), and infant (I). In other words, there are 3 categories. In `pandas`, we have a datatype `category`, which will convert these 3 categories into numbers.\n",
        "To do that, we can use `pandas` method `astype()` to convert the string columns to a numerical category. \n",
        "More about `astype` method: https://pandas.pydata.org/docs/reference/api/pandas.DataFrame.astype.html \n",
        "\n"
      ],
      "metadata": {
        "id": "CD76dnGwjUqK"
      }
    },
    {
      "cell_type": "code",
      "source": [
        "data[\"Sex\"].value_counts()"
      ],
      "metadata": {
        "colab": {
          "base_uri": "https://localhost:8080/"
        },
        "id": "KdQtBbpapYII",
        "outputId": "0770d3de-3688-42a2-9520-e746c57ed467"
      },
      "execution_count": null,
      "outputs": [
        {
          "output_type": "execute_result",
          "data": {
            "text/plain": [
              "M    1528\n",
              "I    1342\n",
              "F    1307\n",
              "Name: Sex, dtype: int64"
            ]
          },
          "metadata": {},
          "execution_count": 251
        }
      ]
    },
    {
      "cell_type": "code",
      "source": [
        "data[\"Sex\"] = data[\"Sex\"].astype(\"category\").cat.as_ordered()"
      ],
      "metadata": {
        "id": "agT1IZIYZ-M2"
      },
      "execution_count": null,
      "outputs": []
    },
    {
      "cell_type": "code",
      "source": [
        "data.info()"
      ],
      "metadata": {
        "colab": {
          "base_uri": "https://localhost:8080/"
        },
        "id": "E2XzJAf1bp6N",
        "outputId": "4d5b8cdc-3f2c-4343-a08f-66f4a838fbe8"
      },
      "execution_count": null,
      "outputs": [
        {
          "output_type": "stream",
          "name": "stdout",
          "text": [
            "<class 'pandas.core.frame.DataFrame'>\n",
            "RangeIndex: 4177 entries, 0 to 4176\n",
            "Data columns (total 9 columns):\n",
            " #   Column          Non-Null Count  Dtype   \n",
            "---  ------          --------------  -----   \n",
            " 0   Sex             4177 non-null   category\n",
            " 1   Length          4177 non-null   float64 \n",
            " 2   Diameter        4177 non-null   float64 \n",
            " 3   Height          4177 non-null   float64 \n",
            " 4   Whole weight    4177 non-null   float64 \n",
            " 5   Shucked weight  4177 non-null   float64 \n",
            " 6   Viscera weight  4177 non-null   float64 \n",
            " 7   Shell weight    4177 non-null   float64 \n",
            " 8   Rings           4177 non-null   int64   \n",
            "dtypes: category(1), float64(7), int64(1)\n",
            "memory usage: 265.4 KB\n"
          ]
        }
      ]
    },
    {
      "cell_type": "markdown",
      "source": [
        "We can see that the datatype of `sex` is now `category`. That‘s good, but not enough. The machine learning model will understand that the values in `sex` columns are all categorical, but they are still not numerical. One way to turn categorical data to numerical is by using **label encoding**.\n",
        "\n",
        "### Label encoding\n"
      ],
      "metadata": {
        "id": "hbHAJjCHbsOJ"
      }
    },
    {
      "cell_type": "code",
      "source": [
        "from sklearn.preprocessing import LabelEncoder\n",
        "\n",
        "l_encoder = LabelEncoder()\n",
        "data[\"Sex\"] =  l_encoder.fit_transform(data[\"Sex\"])\n",
        "\n",
        "\n"
      ],
      "metadata": {
        "id": "uXg4K1tRMuYy"
      },
      "execution_count": null,
      "outputs": []
    },
    {
      "cell_type": "code",
      "source": [
        "data.head()"
      ],
      "metadata": {
        "colab": {
          "base_uri": "https://localhost:8080/",
          "height": 250
        },
        "id": "fnJMaJajrmpw",
        "outputId": "b3c2e876-ef57-44ae-d9c1-9aa1ea186432"
      },
      "execution_count": null,
      "outputs": [
        {
          "output_type": "execute_result",
          "data": {
            "text/plain": [
              "   Sex  Length  Diameter  Height  Whole weight  Shucked weight  \\\n",
              "0    2   0.455     0.365   0.095        0.5140          0.2245   \n",
              "1    2   0.350     0.265   0.090        0.2255          0.0995   \n",
              "2    0   0.530     0.420   0.135        0.6770          0.2565   \n",
              "3    2   0.440     0.365   0.125        0.5160          0.2155   \n",
              "4    1   0.330     0.255   0.080        0.2050          0.0895   \n",
              "\n",
              "   Viscera weight  Shell weight  Rings  \n",
              "0          0.1010         0.150     15  \n",
              "1          0.0485         0.070      7  \n",
              "2          0.1415         0.210      9  \n",
              "3          0.1140         0.155     10  \n",
              "4          0.0395         0.055      7  "
            ],
            "text/html": [
              "\n",
              "  <div id=\"df-94ba7de6-0acf-40c5-acb7-423a67a373b6\">\n",
              "    <div class=\"colab-df-container\">\n",
              "      <div>\n",
              "<style scoped>\n",
              "    .dataframe tbody tr th:only-of-type {\n",
              "        vertical-align: middle;\n",
              "    }\n",
              "\n",
              "    .dataframe tbody tr th {\n",
              "        vertical-align: top;\n",
              "    }\n",
              "\n",
              "    .dataframe thead th {\n",
              "        text-align: right;\n",
              "    }\n",
              "</style>\n",
              "<table border=\"1\" class=\"dataframe\">\n",
              "  <thead>\n",
              "    <tr style=\"text-align: right;\">\n",
              "      <th></th>\n",
              "      <th>Sex</th>\n",
              "      <th>Length</th>\n",
              "      <th>Diameter</th>\n",
              "      <th>Height</th>\n",
              "      <th>Whole weight</th>\n",
              "      <th>Shucked weight</th>\n",
              "      <th>Viscera weight</th>\n",
              "      <th>Shell weight</th>\n",
              "      <th>Rings</th>\n",
              "    </tr>\n",
              "  </thead>\n",
              "  <tbody>\n",
              "    <tr>\n",
              "      <th>0</th>\n",
              "      <td>2</td>\n",
              "      <td>0.455</td>\n",
              "      <td>0.365</td>\n",
              "      <td>0.095</td>\n",
              "      <td>0.5140</td>\n",
              "      <td>0.2245</td>\n",
              "      <td>0.1010</td>\n",
              "      <td>0.150</td>\n",
              "      <td>15</td>\n",
              "    </tr>\n",
              "    <tr>\n",
              "      <th>1</th>\n",
              "      <td>2</td>\n",
              "      <td>0.350</td>\n",
              "      <td>0.265</td>\n",
              "      <td>0.090</td>\n",
              "      <td>0.2255</td>\n",
              "      <td>0.0995</td>\n",
              "      <td>0.0485</td>\n",
              "      <td>0.070</td>\n",
              "      <td>7</td>\n",
              "    </tr>\n",
              "    <tr>\n",
              "      <th>2</th>\n",
              "      <td>0</td>\n",
              "      <td>0.530</td>\n",
              "      <td>0.420</td>\n",
              "      <td>0.135</td>\n",
              "      <td>0.6770</td>\n",
              "      <td>0.2565</td>\n",
              "      <td>0.1415</td>\n",
              "      <td>0.210</td>\n",
              "      <td>9</td>\n",
              "    </tr>\n",
              "    <tr>\n",
              "      <th>3</th>\n",
              "      <td>2</td>\n",
              "      <td>0.440</td>\n",
              "      <td>0.365</td>\n",
              "      <td>0.125</td>\n",
              "      <td>0.5160</td>\n",
              "      <td>0.2155</td>\n",
              "      <td>0.1140</td>\n",
              "      <td>0.155</td>\n",
              "      <td>10</td>\n",
              "    </tr>\n",
              "    <tr>\n",
              "      <th>4</th>\n",
              "      <td>1</td>\n",
              "      <td>0.330</td>\n",
              "      <td>0.255</td>\n",
              "      <td>0.080</td>\n",
              "      <td>0.2050</td>\n",
              "      <td>0.0895</td>\n",
              "      <td>0.0395</td>\n",
              "      <td>0.055</td>\n",
              "      <td>7</td>\n",
              "    </tr>\n",
              "  </tbody>\n",
              "</table>\n",
              "</div>\n",
              "      <button class=\"colab-df-convert\" onclick=\"convertToInteractive('df-94ba7de6-0acf-40c5-acb7-423a67a373b6')\"\n",
              "              title=\"Convert this dataframe to an interactive table.\"\n",
              "              style=\"display:none;\">\n",
              "        \n",
              "  <svg xmlns=\"http://www.w3.org/2000/svg\" height=\"24px\"viewBox=\"0 0 24 24\"\n",
              "       width=\"24px\">\n",
              "    <path d=\"M0 0h24v24H0V0z\" fill=\"none\"/>\n",
              "    <path d=\"M18.56 5.44l.94 2.06.94-2.06 2.06-.94-2.06-.94-.94-2.06-.94 2.06-2.06.94zm-11 1L8.5 8.5l.94-2.06 2.06-.94-2.06-.94L8.5 2.5l-.94 2.06-2.06.94zm10 10l.94 2.06.94-2.06 2.06-.94-2.06-.94-.94-2.06-.94 2.06-2.06.94z\"/><path d=\"M17.41 7.96l-1.37-1.37c-.4-.4-.92-.59-1.43-.59-.52 0-1.04.2-1.43.59L10.3 9.45l-7.72 7.72c-.78.78-.78 2.05 0 2.83L4 21.41c.39.39.9.59 1.41.59.51 0 1.02-.2 1.41-.59l7.78-7.78 2.81-2.81c.8-.78.8-2.07 0-2.86zM5.41 20L4 18.59l7.72-7.72 1.47 1.35L5.41 20z\"/>\n",
              "  </svg>\n",
              "      </button>\n",
              "      \n",
              "  <style>\n",
              "    .colab-df-container {\n",
              "      display:flex;\n",
              "      flex-wrap:wrap;\n",
              "      gap: 12px;\n",
              "    }\n",
              "\n",
              "    .colab-df-convert {\n",
              "      background-color: #E8F0FE;\n",
              "      border: none;\n",
              "      border-radius: 50%;\n",
              "      cursor: pointer;\n",
              "      display: none;\n",
              "      fill: #1967D2;\n",
              "      height: 32px;\n",
              "      padding: 0 0 0 0;\n",
              "      width: 32px;\n",
              "    }\n",
              "\n",
              "    .colab-df-convert:hover {\n",
              "      background-color: #E2EBFA;\n",
              "      box-shadow: 0px 1px 2px rgba(60, 64, 67, 0.3), 0px 1px 3px 1px rgba(60, 64, 67, 0.15);\n",
              "      fill: #174EA6;\n",
              "    }\n",
              "\n",
              "    [theme=dark] .colab-df-convert {\n",
              "      background-color: #3B4455;\n",
              "      fill: #D2E3FC;\n",
              "    }\n",
              "\n",
              "    [theme=dark] .colab-df-convert:hover {\n",
              "      background-color: #434B5C;\n",
              "      box-shadow: 0px 1px 3px 1px rgba(0, 0, 0, 0.15);\n",
              "      filter: drop-shadow(0px 1px 2px rgba(0, 0, 0, 0.3));\n",
              "      fill: #FFFFFF;\n",
              "    }\n",
              "  </style>\n",
              "\n",
              "      <script>\n",
              "        const buttonEl =\n",
              "          document.querySelector('#df-94ba7de6-0acf-40c5-acb7-423a67a373b6 button.colab-df-convert');\n",
              "        buttonEl.style.display =\n",
              "          google.colab.kernel.accessAllowed ? 'block' : 'none';\n",
              "\n",
              "        async function convertToInteractive(key) {\n",
              "          const element = document.querySelector('#df-94ba7de6-0acf-40c5-acb7-423a67a373b6');\n",
              "          const dataTable =\n",
              "            await google.colab.kernel.invokeFunction('convertToInteractive',\n",
              "                                                     [key], {});\n",
              "          if (!dataTable) return;\n",
              "\n",
              "          const docLinkHtml = 'Like what you see? Visit the ' +\n",
              "            '<a target=\"_blank\" href=https://colab.research.google.com/notebooks/data_table.ipynb>data table notebook</a>'\n",
              "            + ' to learn more about interactive tables.';\n",
              "          element.innerHTML = '';\n",
              "          dataTable['output_type'] = 'display_data';\n",
              "          await google.colab.output.renderOutput(dataTable, element);\n",
              "          const docLink = document.createElement('div');\n",
              "          docLink.innerHTML = docLinkHtml;\n",
              "          element.appendChild(docLink);\n",
              "        }\n",
              "      </script>\n",
              "    </div>\n",
              "  </div>\n",
              "  "
            ]
          },
          "metadata": {},
          "execution_count": 255
        }
      ]
    },
    {
      "cell_type": "code",
      "source": [
        "data.info()"
      ],
      "metadata": {
        "colab": {
          "base_uri": "https://localhost:8080/"
        },
        "id": "gGzgbx7naMVO",
        "outputId": "5786bd2b-55bb-4133-9960-981b0bf5cc42"
      },
      "execution_count": null,
      "outputs": [
        {
          "output_type": "stream",
          "name": "stdout",
          "text": [
            "<class 'pandas.core.frame.DataFrame'>\n",
            "RangeIndex: 4177 entries, 0 to 4176\n",
            "Data columns (total 9 columns):\n",
            " #   Column          Non-Null Count  Dtype  \n",
            "---  ------          --------------  -----  \n",
            " 0   Sex             4177 non-null   int64  \n",
            " 1   Length          4177 non-null   float64\n",
            " 2   Diameter        4177 non-null   float64\n",
            " 3   Height          4177 non-null   float64\n",
            " 4   Whole weight    4177 non-null   float64\n",
            " 5   Shucked weight  4177 non-null   float64\n",
            " 6   Viscera weight  4177 non-null   float64\n",
            " 7   Shell weight    4177 non-null   float64\n",
            " 8   Rings           4177 non-null   int64  \n",
            "dtypes: float64(7), int64(2)\n",
            "memory usage: 293.8 KB\n"
          ]
        }
      ]
    },
    {
      "cell_type": "markdown",
      "source": [
        "As we can see, now the datatype of sex column is `integer`."
      ],
      "metadata": {
        "id": "qbB79rzclvUt"
      }
    },
    {
      "cell_type": "markdown",
      "source": [
        "Our original task was to determine the age of the abalone mollusks based on the number of their rings. We know that age is determined by the numebr of rings + 1.5. Therefore, we need to create a new column [\"Age\"] in our data."
      ],
      "metadata": {
        "id": "jdt4gbxprql3"
      }
    },
    {
      "cell_type": "code",
      "source": [
        "# Add age column\n",
        "data[\"Age\"] = data[\"Rings\"] + 1.5\n",
        "\n",
        "# Drop rings column\n",
        "data.drop(\"Rings\", axis=1, inplace=True)"
      ],
      "metadata": {
        "id": "Jhjf5jlHsEfz"
      },
      "execution_count": null,
      "outputs": []
    },
    {
      "cell_type": "code",
      "source": [
        "data.head()"
      ],
      "metadata": {
        "colab": {
          "base_uri": "https://localhost:8080/",
          "height": 206
        },
        "id": "qafwRLQIsNLz",
        "outputId": "96ab18b0-e8c5-45a4-a387-3ede008fa2e2"
      },
      "execution_count": null,
      "outputs": [
        {
          "output_type": "execute_result",
          "data": {
            "text/plain": [
              "   Sex  Length  Diameter  Height  Whole weight  Shucked weight  \\\n",
              "0    2   0.455     0.365   0.095        0.5140          0.2245   \n",
              "1    2   0.350     0.265   0.090        0.2255          0.0995   \n",
              "2    0   0.530     0.420   0.135        0.6770          0.2565   \n",
              "3    2   0.440     0.365   0.125        0.5160          0.2155   \n",
              "4    1   0.330     0.255   0.080        0.2050          0.0895   \n",
              "\n",
              "   Viscera weight  Shell weight   Age  \n",
              "0          0.1010         0.150  16.5  \n",
              "1          0.0485         0.070   8.5  \n",
              "2          0.1415         0.210  10.5  \n",
              "3          0.1140         0.155  11.5  \n",
              "4          0.0395         0.055   8.5  "
            ],
            "text/html": [
              "\n",
              "  <div id=\"df-c4b3329c-8a37-4f58-b573-0af8b96be772\">\n",
              "    <div class=\"colab-df-container\">\n",
              "      <div>\n",
              "<style scoped>\n",
              "    .dataframe tbody tr th:only-of-type {\n",
              "        vertical-align: middle;\n",
              "    }\n",
              "\n",
              "    .dataframe tbody tr th {\n",
              "        vertical-align: top;\n",
              "    }\n",
              "\n",
              "    .dataframe thead th {\n",
              "        text-align: right;\n",
              "    }\n",
              "</style>\n",
              "<table border=\"1\" class=\"dataframe\">\n",
              "  <thead>\n",
              "    <tr style=\"text-align: right;\">\n",
              "      <th></th>\n",
              "      <th>Sex</th>\n",
              "      <th>Length</th>\n",
              "      <th>Diameter</th>\n",
              "      <th>Height</th>\n",
              "      <th>Whole weight</th>\n",
              "      <th>Shucked weight</th>\n",
              "      <th>Viscera weight</th>\n",
              "      <th>Shell weight</th>\n",
              "      <th>Age</th>\n",
              "    </tr>\n",
              "  </thead>\n",
              "  <tbody>\n",
              "    <tr>\n",
              "      <th>0</th>\n",
              "      <td>2</td>\n",
              "      <td>0.455</td>\n",
              "      <td>0.365</td>\n",
              "      <td>0.095</td>\n",
              "      <td>0.5140</td>\n",
              "      <td>0.2245</td>\n",
              "      <td>0.1010</td>\n",
              "      <td>0.150</td>\n",
              "      <td>16.5</td>\n",
              "    </tr>\n",
              "    <tr>\n",
              "      <th>1</th>\n",
              "      <td>2</td>\n",
              "      <td>0.350</td>\n",
              "      <td>0.265</td>\n",
              "      <td>0.090</td>\n",
              "      <td>0.2255</td>\n",
              "      <td>0.0995</td>\n",
              "      <td>0.0485</td>\n",
              "      <td>0.070</td>\n",
              "      <td>8.5</td>\n",
              "    </tr>\n",
              "    <tr>\n",
              "      <th>2</th>\n",
              "      <td>0</td>\n",
              "      <td>0.530</td>\n",
              "      <td>0.420</td>\n",
              "      <td>0.135</td>\n",
              "      <td>0.6770</td>\n",
              "      <td>0.2565</td>\n",
              "      <td>0.1415</td>\n",
              "      <td>0.210</td>\n",
              "      <td>10.5</td>\n",
              "    </tr>\n",
              "    <tr>\n",
              "      <th>3</th>\n",
              "      <td>2</td>\n",
              "      <td>0.440</td>\n",
              "      <td>0.365</td>\n",
              "      <td>0.125</td>\n",
              "      <td>0.5160</td>\n",
              "      <td>0.2155</td>\n",
              "      <td>0.1140</td>\n",
              "      <td>0.155</td>\n",
              "      <td>11.5</td>\n",
              "    </tr>\n",
              "    <tr>\n",
              "      <th>4</th>\n",
              "      <td>1</td>\n",
              "      <td>0.330</td>\n",
              "      <td>0.255</td>\n",
              "      <td>0.080</td>\n",
              "      <td>0.2050</td>\n",
              "      <td>0.0895</td>\n",
              "      <td>0.0395</td>\n",
              "      <td>0.055</td>\n",
              "      <td>8.5</td>\n",
              "    </tr>\n",
              "  </tbody>\n",
              "</table>\n",
              "</div>\n",
              "      <button class=\"colab-df-convert\" onclick=\"convertToInteractive('df-c4b3329c-8a37-4f58-b573-0af8b96be772')\"\n",
              "              title=\"Convert this dataframe to an interactive table.\"\n",
              "              style=\"display:none;\">\n",
              "        \n",
              "  <svg xmlns=\"http://www.w3.org/2000/svg\" height=\"24px\"viewBox=\"0 0 24 24\"\n",
              "       width=\"24px\">\n",
              "    <path d=\"M0 0h24v24H0V0z\" fill=\"none\"/>\n",
              "    <path d=\"M18.56 5.44l.94 2.06.94-2.06 2.06-.94-2.06-.94-.94-2.06-.94 2.06-2.06.94zm-11 1L8.5 8.5l.94-2.06 2.06-.94-2.06-.94L8.5 2.5l-.94 2.06-2.06.94zm10 10l.94 2.06.94-2.06 2.06-.94-2.06-.94-.94-2.06-.94 2.06-2.06.94z\"/><path d=\"M17.41 7.96l-1.37-1.37c-.4-.4-.92-.59-1.43-.59-.52 0-1.04.2-1.43.59L10.3 9.45l-7.72 7.72c-.78.78-.78 2.05 0 2.83L4 21.41c.39.39.9.59 1.41.59.51 0 1.02-.2 1.41-.59l7.78-7.78 2.81-2.81c.8-.78.8-2.07 0-2.86zM5.41 20L4 18.59l7.72-7.72 1.47 1.35L5.41 20z\"/>\n",
              "  </svg>\n",
              "      </button>\n",
              "      \n",
              "  <style>\n",
              "    .colab-df-container {\n",
              "      display:flex;\n",
              "      flex-wrap:wrap;\n",
              "      gap: 12px;\n",
              "    }\n",
              "\n",
              "    .colab-df-convert {\n",
              "      background-color: #E8F0FE;\n",
              "      border: none;\n",
              "      border-radius: 50%;\n",
              "      cursor: pointer;\n",
              "      display: none;\n",
              "      fill: #1967D2;\n",
              "      height: 32px;\n",
              "      padding: 0 0 0 0;\n",
              "      width: 32px;\n",
              "    }\n",
              "\n",
              "    .colab-df-convert:hover {\n",
              "      background-color: #E2EBFA;\n",
              "      box-shadow: 0px 1px 2px rgba(60, 64, 67, 0.3), 0px 1px 3px 1px rgba(60, 64, 67, 0.15);\n",
              "      fill: #174EA6;\n",
              "    }\n",
              "\n",
              "    [theme=dark] .colab-df-convert {\n",
              "      background-color: #3B4455;\n",
              "      fill: #D2E3FC;\n",
              "    }\n",
              "\n",
              "    [theme=dark] .colab-df-convert:hover {\n",
              "      background-color: #434B5C;\n",
              "      box-shadow: 0px 1px 3px 1px rgba(0, 0, 0, 0.15);\n",
              "      filter: drop-shadow(0px 1px 2px rgba(0, 0, 0, 0.3));\n",
              "      fill: #FFFFFF;\n",
              "    }\n",
              "  </style>\n",
              "\n",
              "      <script>\n",
              "        const buttonEl =\n",
              "          document.querySelector('#df-c4b3329c-8a37-4f58-b573-0af8b96be772 button.colab-df-convert');\n",
              "        buttonEl.style.display =\n",
              "          google.colab.kernel.accessAllowed ? 'block' : 'none';\n",
              "\n",
              "        async function convertToInteractive(key) {\n",
              "          const element = document.querySelector('#df-c4b3329c-8a37-4f58-b573-0af8b96be772');\n",
              "          const dataTable =\n",
              "            await google.colab.kernel.invokeFunction('convertToInteractive',\n",
              "                                                     [key], {});\n",
              "          if (!dataTable) return;\n",
              "\n",
              "          const docLinkHtml = 'Like what you see? Visit the ' +\n",
              "            '<a target=\"_blank\" href=https://colab.research.google.com/notebooks/data_table.ipynb>data table notebook</a>'\n",
              "            + ' to learn more about interactive tables.';\n",
              "          element.innerHTML = '';\n",
              "          dataTable['output_type'] = 'display_data';\n",
              "          await google.colab.output.renderOutput(dataTable, element);\n",
              "          const docLink = document.createElement('div');\n",
              "          docLink.innerHTML = docLinkHtml;\n",
              "          element.appendChild(docLink);\n",
              "        }\n",
              "      </script>\n",
              "    </div>\n",
              "  </div>\n",
              "  "
            ]
          },
          "metadata": {},
          "execution_count": 271
        }
      ]
    },
    {
      "cell_type": "markdown",
      "source": [
        "## Building a machine learning model\n",
        "To build a machine learning model, there are several steps we have to make.\n",
        "\n",
        "* Split data into X (labels) and y (target)\n",
        "> X refers to all the variables that the machine model uses to make a prediction. In our case, X labels include `sex`, `length`, `diameter`, `height` ets. Y, on the other hand, refers to a target variable, or the correct answer. In our case, the correct answer (what the macine is supposed to predict) is `age`.\n",
        "\n",
        "* Split data into test and train sets\n",
        "> Essentially, we train the model on train set (about 80% of the data), and then we see how well it can predict the target variable (in our case, age) on the remaining 20% of data. To split the data, we are using a `scikit-learn` module `train_test_split` \n",
        "\n",
        "* Select a machine learning model \n",
        "> Different machine learning models are suitable for different problems. In supervised learning, there are two types of machine learning problems: classification and regression. We are dealing with a regression problem, because we need to predict a number. We can use this map to help us choose the right machine learning model: https://scikit-learn.org/stable/tutorial/machine_learning_map/index.html "
      ],
      "metadata": {
        "id": "wNVzeT9xsMyp"
      }
    },
    {
      "cell_type": "code",
      "source": [
        "# Split data into X and y\n",
        "X = data.drop(\"Age\", axis=1)\n",
        "y = data[\"Age\"]"
      ],
      "metadata": {
        "id": "w2oy7hZxW6TB"
      },
      "execution_count": null,
      "outputs": []
    },
    {
      "cell_type": "code",
      "source": [
        "X[:20]"
      ],
      "metadata": {
        "colab": {
          "base_uri": "https://localhost:8080/",
          "height": 677
        },
        "id": "C1h-yBWiYMOM",
        "outputId": "006fc6b8-455c-4a05-ddcc-8481ca0fe3ee"
      },
      "execution_count": null,
      "outputs": [
        {
          "output_type": "execute_result",
          "data": {
            "text/plain": [
              "    Sex  Length  Diameter  Height  Whole weight  Shucked weight  \\\n",
              "0     2   0.455     0.365   0.095        0.5140          0.2245   \n",
              "1     2   0.350     0.265   0.090        0.2255          0.0995   \n",
              "2     0   0.530     0.420   0.135        0.6770          0.2565   \n",
              "3     2   0.440     0.365   0.125        0.5160          0.2155   \n",
              "4     1   0.330     0.255   0.080        0.2050          0.0895   \n",
              "5     1   0.425     0.300   0.095        0.3515          0.1410   \n",
              "6     0   0.530     0.415   0.150        0.7775          0.2370   \n",
              "7     0   0.545     0.425   0.125        0.7680          0.2940   \n",
              "8     2   0.475     0.370   0.125        0.5095          0.2165   \n",
              "9     0   0.550     0.440   0.150        0.8945          0.3145   \n",
              "10    0   0.525     0.380   0.140        0.6065          0.1940   \n",
              "11    2   0.430     0.350   0.110        0.4060          0.1675   \n",
              "12    2   0.490     0.380   0.135        0.5415          0.2175   \n",
              "13    0   0.535     0.405   0.145        0.6845          0.2725   \n",
              "14    0   0.470     0.355   0.100        0.4755          0.1675   \n",
              "15    2   0.500     0.400   0.130        0.6645          0.2580   \n",
              "16    1   0.355     0.280   0.085        0.2905          0.0950   \n",
              "17    0   0.440     0.340   0.100        0.4510          0.1880   \n",
              "18    2   0.365     0.295   0.080        0.2555          0.0970   \n",
              "19    2   0.450     0.320   0.100        0.3810          0.1705   \n",
              "\n",
              "    Viscera weight  Shell weight  \n",
              "0           0.1010         0.150  \n",
              "1           0.0485         0.070  \n",
              "2           0.1415         0.210  \n",
              "3           0.1140         0.155  \n",
              "4           0.0395         0.055  \n",
              "5           0.0775         0.120  \n",
              "6           0.1415         0.330  \n",
              "7           0.1495         0.260  \n",
              "8           0.1125         0.165  \n",
              "9           0.1510         0.320  \n",
              "10          0.1475         0.210  \n",
              "11          0.0810         0.135  \n",
              "12          0.0950         0.190  \n",
              "13          0.1710         0.205  \n",
              "14          0.0805         0.185  \n",
              "15          0.1330         0.240  \n",
              "16          0.0395         0.115  \n",
              "17          0.0870         0.130  \n",
              "18          0.0430         0.100  \n",
              "19          0.0750         0.115  "
            ],
            "text/html": [
              "\n",
              "  <div id=\"df-b3967ff6-dd20-49bf-ad04-698f14fbe6c5\">\n",
              "    <div class=\"colab-df-container\">\n",
              "      <div>\n",
              "<style scoped>\n",
              "    .dataframe tbody tr th:only-of-type {\n",
              "        vertical-align: middle;\n",
              "    }\n",
              "\n",
              "    .dataframe tbody tr th {\n",
              "        vertical-align: top;\n",
              "    }\n",
              "\n",
              "    .dataframe thead th {\n",
              "        text-align: right;\n",
              "    }\n",
              "</style>\n",
              "<table border=\"1\" class=\"dataframe\">\n",
              "  <thead>\n",
              "    <tr style=\"text-align: right;\">\n",
              "      <th></th>\n",
              "      <th>Sex</th>\n",
              "      <th>Length</th>\n",
              "      <th>Diameter</th>\n",
              "      <th>Height</th>\n",
              "      <th>Whole weight</th>\n",
              "      <th>Shucked weight</th>\n",
              "      <th>Viscera weight</th>\n",
              "      <th>Shell weight</th>\n",
              "    </tr>\n",
              "  </thead>\n",
              "  <tbody>\n",
              "    <tr>\n",
              "      <th>0</th>\n",
              "      <td>2</td>\n",
              "      <td>0.455</td>\n",
              "      <td>0.365</td>\n",
              "      <td>0.095</td>\n",
              "      <td>0.5140</td>\n",
              "      <td>0.2245</td>\n",
              "      <td>0.1010</td>\n",
              "      <td>0.150</td>\n",
              "    </tr>\n",
              "    <tr>\n",
              "      <th>1</th>\n",
              "      <td>2</td>\n",
              "      <td>0.350</td>\n",
              "      <td>0.265</td>\n",
              "      <td>0.090</td>\n",
              "      <td>0.2255</td>\n",
              "      <td>0.0995</td>\n",
              "      <td>0.0485</td>\n",
              "      <td>0.070</td>\n",
              "    </tr>\n",
              "    <tr>\n",
              "      <th>2</th>\n",
              "      <td>0</td>\n",
              "      <td>0.530</td>\n",
              "      <td>0.420</td>\n",
              "      <td>0.135</td>\n",
              "      <td>0.6770</td>\n",
              "      <td>0.2565</td>\n",
              "      <td>0.1415</td>\n",
              "      <td>0.210</td>\n",
              "    </tr>\n",
              "    <tr>\n",
              "      <th>3</th>\n",
              "      <td>2</td>\n",
              "      <td>0.440</td>\n",
              "      <td>0.365</td>\n",
              "      <td>0.125</td>\n",
              "      <td>0.5160</td>\n",
              "      <td>0.2155</td>\n",
              "      <td>0.1140</td>\n",
              "      <td>0.155</td>\n",
              "    </tr>\n",
              "    <tr>\n",
              "      <th>4</th>\n",
              "      <td>1</td>\n",
              "      <td>0.330</td>\n",
              "      <td>0.255</td>\n",
              "      <td>0.080</td>\n",
              "      <td>0.2050</td>\n",
              "      <td>0.0895</td>\n",
              "      <td>0.0395</td>\n",
              "      <td>0.055</td>\n",
              "    </tr>\n",
              "    <tr>\n",
              "      <th>5</th>\n",
              "      <td>1</td>\n",
              "      <td>0.425</td>\n",
              "      <td>0.300</td>\n",
              "      <td>0.095</td>\n",
              "      <td>0.3515</td>\n",
              "      <td>0.1410</td>\n",
              "      <td>0.0775</td>\n",
              "      <td>0.120</td>\n",
              "    </tr>\n",
              "    <tr>\n",
              "      <th>6</th>\n",
              "      <td>0</td>\n",
              "      <td>0.530</td>\n",
              "      <td>0.415</td>\n",
              "      <td>0.150</td>\n",
              "      <td>0.7775</td>\n",
              "      <td>0.2370</td>\n",
              "      <td>0.1415</td>\n",
              "      <td>0.330</td>\n",
              "    </tr>\n",
              "    <tr>\n",
              "      <th>7</th>\n",
              "      <td>0</td>\n",
              "      <td>0.545</td>\n",
              "      <td>0.425</td>\n",
              "      <td>0.125</td>\n",
              "      <td>0.7680</td>\n",
              "      <td>0.2940</td>\n",
              "      <td>0.1495</td>\n",
              "      <td>0.260</td>\n",
              "    </tr>\n",
              "    <tr>\n",
              "      <th>8</th>\n",
              "      <td>2</td>\n",
              "      <td>0.475</td>\n",
              "      <td>0.370</td>\n",
              "      <td>0.125</td>\n",
              "      <td>0.5095</td>\n",
              "      <td>0.2165</td>\n",
              "      <td>0.1125</td>\n",
              "      <td>0.165</td>\n",
              "    </tr>\n",
              "    <tr>\n",
              "      <th>9</th>\n",
              "      <td>0</td>\n",
              "      <td>0.550</td>\n",
              "      <td>0.440</td>\n",
              "      <td>0.150</td>\n",
              "      <td>0.8945</td>\n",
              "      <td>0.3145</td>\n",
              "      <td>0.1510</td>\n",
              "      <td>0.320</td>\n",
              "    </tr>\n",
              "    <tr>\n",
              "      <th>10</th>\n",
              "      <td>0</td>\n",
              "      <td>0.525</td>\n",
              "      <td>0.380</td>\n",
              "      <td>0.140</td>\n",
              "      <td>0.6065</td>\n",
              "      <td>0.1940</td>\n",
              "      <td>0.1475</td>\n",
              "      <td>0.210</td>\n",
              "    </tr>\n",
              "    <tr>\n",
              "      <th>11</th>\n",
              "      <td>2</td>\n",
              "      <td>0.430</td>\n",
              "      <td>0.350</td>\n",
              "      <td>0.110</td>\n",
              "      <td>0.4060</td>\n",
              "      <td>0.1675</td>\n",
              "      <td>0.0810</td>\n",
              "      <td>0.135</td>\n",
              "    </tr>\n",
              "    <tr>\n",
              "      <th>12</th>\n",
              "      <td>2</td>\n",
              "      <td>0.490</td>\n",
              "      <td>0.380</td>\n",
              "      <td>0.135</td>\n",
              "      <td>0.5415</td>\n",
              "      <td>0.2175</td>\n",
              "      <td>0.0950</td>\n",
              "      <td>0.190</td>\n",
              "    </tr>\n",
              "    <tr>\n",
              "      <th>13</th>\n",
              "      <td>0</td>\n",
              "      <td>0.535</td>\n",
              "      <td>0.405</td>\n",
              "      <td>0.145</td>\n",
              "      <td>0.6845</td>\n",
              "      <td>0.2725</td>\n",
              "      <td>0.1710</td>\n",
              "      <td>0.205</td>\n",
              "    </tr>\n",
              "    <tr>\n",
              "      <th>14</th>\n",
              "      <td>0</td>\n",
              "      <td>0.470</td>\n",
              "      <td>0.355</td>\n",
              "      <td>0.100</td>\n",
              "      <td>0.4755</td>\n",
              "      <td>0.1675</td>\n",
              "      <td>0.0805</td>\n",
              "      <td>0.185</td>\n",
              "    </tr>\n",
              "    <tr>\n",
              "      <th>15</th>\n",
              "      <td>2</td>\n",
              "      <td>0.500</td>\n",
              "      <td>0.400</td>\n",
              "      <td>0.130</td>\n",
              "      <td>0.6645</td>\n",
              "      <td>0.2580</td>\n",
              "      <td>0.1330</td>\n",
              "      <td>0.240</td>\n",
              "    </tr>\n",
              "    <tr>\n",
              "      <th>16</th>\n",
              "      <td>1</td>\n",
              "      <td>0.355</td>\n",
              "      <td>0.280</td>\n",
              "      <td>0.085</td>\n",
              "      <td>0.2905</td>\n",
              "      <td>0.0950</td>\n",
              "      <td>0.0395</td>\n",
              "      <td>0.115</td>\n",
              "    </tr>\n",
              "    <tr>\n",
              "      <th>17</th>\n",
              "      <td>0</td>\n",
              "      <td>0.440</td>\n",
              "      <td>0.340</td>\n",
              "      <td>0.100</td>\n",
              "      <td>0.4510</td>\n",
              "      <td>0.1880</td>\n",
              "      <td>0.0870</td>\n",
              "      <td>0.130</td>\n",
              "    </tr>\n",
              "    <tr>\n",
              "      <th>18</th>\n",
              "      <td>2</td>\n",
              "      <td>0.365</td>\n",
              "      <td>0.295</td>\n",
              "      <td>0.080</td>\n",
              "      <td>0.2555</td>\n",
              "      <td>0.0970</td>\n",
              "      <td>0.0430</td>\n",
              "      <td>0.100</td>\n",
              "    </tr>\n",
              "    <tr>\n",
              "      <th>19</th>\n",
              "      <td>2</td>\n",
              "      <td>0.450</td>\n",
              "      <td>0.320</td>\n",
              "      <td>0.100</td>\n",
              "      <td>0.3810</td>\n",
              "      <td>0.1705</td>\n",
              "      <td>0.0750</td>\n",
              "      <td>0.115</td>\n",
              "    </tr>\n",
              "  </tbody>\n",
              "</table>\n",
              "</div>\n",
              "      <button class=\"colab-df-convert\" onclick=\"convertToInteractive('df-b3967ff6-dd20-49bf-ad04-698f14fbe6c5')\"\n",
              "              title=\"Convert this dataframe to an interactive table.\"\n",
              "              style=\"display:none;\">\n",
              "        \n",
              "  <svg xmlns=\"http://www.w3.org/2000/svg\" height=\"24px\"viewBox=\"0 0 24 24\"\n",
              "       width=\"24px\">\n",
              "    <path d=\"M0 0h24v24H0V0z\" fill=\"none\"/>\n",
              "    <path d=\"M18.56 5.44l.94 2.06.94-2.06 2.06-.94-2.06-.94-.94-2.06-.94 2.06-2.06.94zm-11 1L8.5 8.5l.94-2.06 2.06-.94-2.06-.94L8.5 2.5l-.94 2.06-2.06.94zm10 10l.94 2.06.94-2.06 2.06-.94-2.06-.94-.94-2.06-.94 2.06-2.06.94z\"/><path d=\"M17.41 7.96l-1.37-1.37c-.4-.4-.92-.59-1.43-.59-.52 0-1.04.2-1.43.59L10.3 9.45l-7.72 7.72c-.78.78-.78 2.05 0 2.83L4 21.41c.39.39.9.59 1.41.59.51 0 1.02-.2 1.41-.59l7.78-7.78 2.81-2.81c.8-.78.8-2.07 0-2.86zM5.41 20L4 18.59l7.72-7.72 1.47 1.35L5.41 20z\"/>\n",
              "  </svg>\n",
              "      </button>\n",
              "      \n",
              "  <style>\n",
              "    .colab-df-container {\n",
              "      display:flex;\n",
              "      flex-wrap:wrap;\n",
              "      gap: 12px;\n",
              "    }\n",
              "\n",
              "    .colab-df-convert {\n",
              "      background-color: #E8F0FE;\n",
              "      border: none;\n",
              "      border-radius: 50%;\n",
              "      cursor: pointer;\n",
              "      display: none;\n",
              "      fill: #1967D2;\n",
              "      height: 32px;\n",
              "      padding: 0 0 0 0;\n",
              "      width: 32px;\n",
              "    }\n",
              "\n",
              "    .colab-df-convert:hover {\n",
              "      background-color: #E2EBFA;\n",
              "      box-shadow: 0px 1px 2px rgba(60, 64, 67, 0.3), 0px 1px 3px 1px rgba(60, 64, 67, 0.15);\n",
              "      fill: #174EA6;\n",
              "    }\n",
              "\n",
              "    [theme=dark] .colab-df-convert {\n",
              "      background-color: #3B4455;\n",
              "      fill: #D2E3FC;\n",
              "    }\n",
              "\n",
              "    [theme=dark] .colab-df-convert:hover {\n",
              "      background-color: #434B5C;\n",
              "      box-shadow: 0px 1px 3px 1px rgba(0, 0, 0, 0.15);\n",
              "      filter: drop-shadow(0px 1px 2px rgba(0, 0, 0, 0.3));\n",
              "      fill: #FFFFFF;\n",
              "    }\n",
              "  </style>\n",
              "\n",
              "      <script>\n",
              "        const buttonEl =\n",
              "          document.querySelector('#df-b3967ff6-dd20-49bf-ad04-698f14fbe6c5 button.colab-df-convert');\n",
              "        buttonEl.style.display =\n",
              "          google.colab.kernel.accessAllowed ? 'block' : 'none';\n",
              "\n",
              "        async function convertToInteractive(key) {\n",
              "          const element = document.querySelector('#df-b3967ff6-dd20-49bf-ad04-698f14fbe6c5');\n",
              "          const dataTable =\n",
              "            await google.colab.kernel.invokeFunction('convertToInteractive',\n",
              "                                                     [key], {});\n",
              "          if (!dataTable) return;\n",
              "\n",
              "          const docLinkHtml = 'Like what you see? Visit the ' +\n",
              "            '<a target=\"_blank\" href=https://colab.research.google.com/notebooks/data_table.ipynb>data table notebook</a>'\n",
              "            + ' to learn more about interactive tables.';\n",
              "          element.innerHTML = '';\n",
              "          dataTable['output_type'] = 'display_data';\n",
              "          await google.colab.output.renderOutput(dataTable, element);\n",
              "          const docLink = document.createElement('div');\n",
              "          docLink.innerHTML = docLinkHtml;\n",
              "          element.appendChild(docLink);\n",
              "        }\n",
              "      </script>\n",
              "    </div>\n",
              "  </div>\n",
              "  "
            ]
          },
          "metadata": {},
          "execution_count": 273
        }
      ]
    },
    {
      "cell_type": "code",
      "source": [
        "y[:20]"
      ],
      "metadata": {
        "colab": {
          "base_uri": "https://localhost:8080/"
        },
        "id": "0OjIlnKfYOBK",
        "outputId": "359b35da-37a7-44d9-8e02-f68ffcfc2094"
      },
      "execution_count": null,
      "outputs": [
        {
          "output_type": "execute_result",
          "data": {
            "text/plain": [
              "0     16.5\n",
              "1      8.5\n",
              "2     10.5\n",
              "3     11.5\n",
              "4      8.5\n",
              "5      9.5\n",
              "6     21.5\n",
              "7     17.5\n",
              "8     10.5\n",
              "9     20.5\n",
              "10    15.5\n",
              "11    11.5\n",
              "12    12.5\n",
              "13    11.5\n",
              "14    11.5\n",
              "15    13.5\n",
              "16     8.5\n",
              "17    11.5\n",
              "18     8.5\n",
              "19    10.5\n",
              "Name: Age, dtype: float64"
            ]
          },
          "metadata": {},
          "execution_count": 274
        }
      ]
    },
    {
      "cell_type": "markdown",
      "source": [
        "Now we can split data into train and test sets. "
      ],
      "metadata": {
        "id": "fTsWN4BnGoin"
      }
    },
    {
      "cell_type": "code",
      "source": [
        "# Split data into train and test sets\n",
        "from sklearn.model_selection import train_test_split\n",
        "\n",
        "X_train, X_test, y_train, y_test = train_test_split(X,\n",
        "                                                    y,\n",
        "                                                    test_size=0.2,\n",
        "                                                    random_state=14)"
      ],
      "metadata": {
        "id": "gxjonlvrYSp6"
      },
      "execution_count": null,
      "outputs": []
    },
    {
      "cell_type": "code",
      "source": [
        "len(X_train), len(y_train), len(X_test), len(y_test)"
      ],
      "metadata": {
        "colab": {
          "base_uri": "https://localhost:8080/"
        },
        "id": "PalaNr36Yqhn",
        "outputId": "b51ad440-3479-455c-99b5-4406431cc635"
      },
      "execution_count": null,
      "outputs": [
        {
          "output_type": "execute_result",
          "data": {
            "text/plain": [
              "(3341, 3341, 836, 836)"
            ]
          },
          "metadata": {},
          "execution_count": 276
        }
      ]
    },
    {
      "cell_type": "markdown",
      "source": [
        "## Choosing a machine learning model\n",
        "\n",
        "Now that the data is split into train and test, let‘s try to build a machine learning model. We will try a `RandomForestRegressor`. \n",
        "\n",
        "#### Random Forest Regressor\n",
        "Random Forest Regressor is a machine learning model based on a forest of decision-trees, and can be used for both classifiaction and regression problems."
      ],
      "metadata": {
        "id": "0t0r8908Y3s7"
      }
    },
    {
      "cell_type": "code",
      "source": [
        "# import model\n",
        "from sklearn.ensemble import RandomForestRegressor\n",
        "\n",
        "# instantiate model\n",
        "rf = RandomForestRegressor(n_jobs=-1,\n",
        "                           random_state=14)\n",
        "\n",
        "# fit the model\n",
        "rf.fit(X_train, y_train)"
      ],
      "metadata": {
        "colab": {
          "base_uri": "https://localhost:8080/"
        },
        "id": "fgoCOcAXZHCW",
        "outputId": "ec51b79a-054d-4418-b509-17d5def61c3f"
      },
      "execution_count": null,
      "outputs": [
        {
          "output_type": "execute_result",
          "data": {
            "text/plain": [
              "RandomForestRegressor(n_jobs=-1, random_state=14)"
            ]
          },
          "metadata": {},
          "execution_count": 277
        }
      ]
    },
    {
      "cell_type": "markdown",
      "source": [
        "## Evaluation \n",
        "\n",
        "Now that we fit our model, we need to evaluate how well did it perform. There are different evaluation criterion for classification and regression models. The most common ways to evaluate a regression model are:\n",
        "* Mean Absolute Error (MAE)\n",
        "> Measures the average magnitude of the errors in predictions, without considering their direction. In other words, MAE → actual answer - predicted answer. The lower the value, the better.\n",
        "* Mean Square Error (MSE)\n",
        "> Shows how close a regression line is to a set of points. The lower the MSE, the better.\n",
        "* Root Mean Square Error (RMSE)\n",
        "> RMSE is used to return the MSE error to the original unit by taking the square root of it.\n",
        "* R2 score\n",
        "> R2 score is the proportion of the variance in the dependent variable that is predicted from the independent variables. Generally, a score higher than 0.7 is considered to have a good level of correlation, 0.5 to 0.7 is a moderate correlation, and a score below 0.4 shows a low level of correlation. "
      ],
      "metadata": {
        "id": "qaugnhLpT1PS"
      }
    },
    {
      "cell_type": "code",
      "source": [
        "rf.score(X_train, y_train)"
      ],
      "metadata": {
        "colab": {
          "base_uri": "https://localhost:8080/"
        },
        "id": "tAMLa_ylaTlb",
        "outputId": "45df878b-6787-460c-e75f-4c9ecfc7d90a"
      },
      "execution_count": null,
      "outputs": [
        {
          "output_type": "execute_result",
          "data": {
            "text/plain": [
              "0.9357057341721267"
            ]
          },
          "metadata": {},
          "execution_count": 278
        }
      ]
    },
    {
      "cell_type": "code",
      "source": [
        "# import the evaluation metrics\n",
        "from sklearn.metrics import mean_absolute_error, r2_score, mean_squared_log_error\n",
        "\n",
        "# create an evaluation function\n",
        "def show_score(model):\n",
        "  train_preds= model.predict(X_train)\n",
        "  test_preds = model.predict(X_test)\n",
        "  scores = {\"Training MAE\": mean_absolute_error(y_train, train_preds),\n",
        "            \"Test MAE\": mean_absolute_error(y_test, test_preds),\n",
        "            \"Training MSE\": mean_squared_log_error(y_train, train_preds),\n",
        "            \"Test MSE\": mean_squared_log_error(y_test, test_preds),\n",
        "            \"Training RMSE\": np.sqrt(mean_squared_log_error(y_train, train_preds)),\n",
        "            \"Test RMSE\": np.sqrt(mean_squared_log_error(y_test, test_preds)),\n",
        "            \"Training R2\": r2_score(y_train, train_preds),\n",
        "            \"Test R2\": r2_score(y_test, test_preds)}\n",
        "  return scores"
      ],
      "metadata": {
        "id": "F_iLlX-Ob3d1"
      },
      "execution_count": null,
      "outputs": []
    },
    {
      "cell_type": "code",
      "source": [
        "rf.fit(X_train, y_train)"
      ],
      "metadata": {
        "colab": {
          "base_uri": "https://localhost:8080/"
        },
        "id": "roYKfAMofyEu",
        "outputId": "021d723b-0b3c-45d0-e344-aca6084b8f46"
      },
      "execution_count": null,
      "outputs": [
        {
          "output_type": "execute_result",
          "data": {
            "text/plain": [
              "RandomForestRegressor(n_jobs=-1, random_state=14)"
            ]
          },
          "metadata": {},
          "execution_count": 280
        }
      ]
    },
    {
      "cell_type": "code",
      "source": [
        "show_score(rf)"
      ],
      "metadata": {
        "colab": {
          "base_uri": "https://localhost:8080/"
        },
        "id": "fmH61Li4f-GW",
        "outputId": "eb7d231b-60c8-47b8-be55-bc8b2041ffc8"
      },
      "execution_count": null,
      "outputs": [
        {
          "output_type": "execute_result",
          "data": {
            "text/plain": [
              "{'Test MAE': 1.5157296650717704,\n",
              " 'Test MSE': 0.024190290175117212,\n",
              " 'Test R2': 0.5253587245211205,\n",
              " 'Test RMSE': 0.1555322801707646,\n",
              " 'Training MAE': 0.5804040706375337,\n",
              " 'Training MSE': 0.0034025564104252833,\n",
              " 'Training R2': 0.9357057341721267,\n",
              " 'Training RMSE': 0.05833143586802303}"
            ]
          },
          "metadata": {},
          "execution_count": 281
        }
      ]
    },
    {
      "cell_type": "markdown",
      "source": [
        "We can see that the error in test sets is higher than in training sets. This is good, because when the machine model makes predictions based on training set, it already learnt the correct answer. At the same time, the error in test sets is higher, because the model doesn‘t know the answers to the test data. We can visualize the actual answers with the predicted ones, to see the error more clearly."
      ],
      "metadata": {
        "id": "cxFo_TqPXoEf"
      }
    },
    {
      "cell_type": "code",
      "source": [
        "# Predict the labels on test data\n",
        "test_preds = rf.predict(X_test) \n",
        "\n",
        "# Visualize predictions vs true labels\n",
        "fig = plt.figure(figsize=(10, 6))\n",
        "plt.scatter(range(y_test.shape[0]), y_test, color=\"salmon\", label=\"y_test\")\n",
        "plt.scatter(range(y_test.shape[0]), test_preds, color=\"skyblue\", label=\"test_preds\")\n",
        "plt.legend();"
      ],
      "metadata": {
        "colab": {
          "base_uri": "https://localhost:8080/",
          "height": 374
        },
        "id": "KxPSWh7PYSZb",
        "outputId": "ac12968a-c26c-4660-8089-9d054a9d2d9d"
      },
      "execution_count": null,
      "outputs": [
        {
          "output_type": "display_data",
          "data": {
            "text/plain": [
              "<Figure size 720x432 with 1 Axes>"
            ],
            "image/png": "[encoded data removed]"
          },
          "metadata": {
            "needs_background": "light"
          }
        }
      ]
    },
    {
      "cell_type": "markdown",
      "source": [
        "## Hyperparameter tuning\n",
        "We can see that our model did pretty good. However, we can make it even better by tuning some of the hyperparameters in our model. One way to think about hyperparameters is like the settings that can e adjusted to improve performance. In other words, *parameters* are learned during training, and *hyperparameters* are set by the data scientist. \n",
        "\n",
        "#### Random Search Grid\n",
        "Usually, the best set of hyperparameters is found through experimentation. And thus the best approach is to evaluate a number of different variations, and then choose the best ones. Scikit-Learn‘s `RandomizedSearchCV` method can create a grid of hyperparameter ranges, and then randomly sample from the grid. "
      ],
      "metadata": {
        "id": "Ghw7tdz2hawC"
      }
    },
    {
      "cell_type": "code",
      "source": [
        "#Check current parameters\n",
        "from pprint import pprint\n",
        "\n",
        "print(\"Current parameters:\")\n",
        "pprint(rf.get_params())"
      ],
      "metadata": {
        "colab": {
          "base_uri": "https://localhost:8080/"
        },
        "id": "ArRKuONuhbbb",
        "outputId": "cb052231-4763-47c3-9112-9e80e027844c"
      },
      "execution_count": null,
      "outputs": [
        {
          "output_type": "stream",
          "name": "stdout",
          "text": [
            "Current parameters:\n",
            "{'bootstrap': True,\n",
            " 'ccp_alpha': 0.0,\n",
            " 'criterion': 'squared_error',\n",
            " 'max_depth': None,\n",
            " 'max_features': 'auto',\n",
            " 'max_leaf_nodes': None,\n",
            " 'max_samples': None,\n",
            " 'min_impurity_decrease': 0.0,\n",
            " 'min_samples_leaf': 1,\n",
            " 'min_samples_split': 2,\n",
            " 'min_weight_fraction_leaf': 0.0,\n",
            " 'n_estimators': 100,\n",
            " 'n_jobs': -1,\n",
            " 'oob_score': False,\n",
            " 'random_state': 14,\n",
            " 'verbose': 0,\n",
            " 'warm_start': False}\n"
          ]
        }
      ]
    },
    {
      "cell_type": "markdown",
      "source": [
        "Some of the most important parameters for a RandomForest are:\n",
        "* `n_estimators` → number of trees in a forest\n",
        "* `max_features` → number of features considered for splitting each leaf node\n",
        "* `max_depth` → maximum number of levels in each decision tree\n",
        "* `max_samples_split` → minimum number of data points placed in a node before the node is split\n",
        "* `min_samples_leaf` → minimum number of data points allowed in a lead node\n"
      ],
      "metadata": {
        "id": "lxDa0Hnxv5q6"
      }
    },
    {
      "cell_type": "code",
      "source": [
        "from sklearn.model_selection import RandomizedSearchCV\n",
        "\n",
        "rf_grid = {\"n_estimators\":[20, 100, 200],\n",
        "           \"max_depth\":[None, 1, 2, 5],\n",
        "           \"max_features\":[0.5, 1, \"auto\", \"sqrt\"],\n",
        "           \"min_samples_split\":[ 2, 5, 10],\n",
        "           \"min_samples_leaf\":[1, 2, 3, 5]}\n",
        "\n",
        "rs_model = RandomizedSearchCV(RandomForestRegressor(n_jobs=-1,\n",
        "                                                    random_state=14),\n",
        "                              param_distributions=rf_grid,\n",
        "                              n_iter=100,\n",
        "                              cv=5,\n",
        "                              verbose=True)\n",
        "\n",
        "rs_model.fit(X_train, y_train)\n"
      ],
      "metadata": {
        "colab": {
          "base_uri": "https://localhost:8080/"
        },
        "id": "Gnrr020KiGNt",
        "outputId": "ddba5359-2d21-45b5-9444-07b6a8a05b2c"
      },
      "execution_count": null,
      "outputs": [
        {
          "output_type": "stream",
          "name": "stdout",
          "text": [
            "Fitting 5 folds for each of 100 candidates, totalling 500 fits\n"
          ]
        },
        {
          "output_type": "execute_result",
          "data": {
            "text/plain": [
              "RandomizedSearchCV(cv=5,\n",
              "                   estimator=RandomForestRegressor(n_jobs=-1, random_state=14),\n",
              "                   n_iter=100,\n",
              "                   param_distributions={'max_depth': [None, 1, 2, 5],\n",
              "                                        'max_features': [0.5, 1, 'auto',\n",
              "                                                         'sqrt'],\n",
              "                                        'min_samples_leaf': [1, 2, 3, 5],\n",
              "                                        'min_samples_split': [2, 5, 10],\n",
              "                                        'n_estimators': [20, 100, 200]},\n",
              "                   verbose=True)"
            ]
          },
          "metadata": {},
          "execution_count": 214
        }
      ]
    },
    {
      "cell_type": "code",
      "source": [
        "# The RandomizedSearchCV model\n",
        "show_score(rs_model)"
      ],
      "metadata": {
        "colab": {
          "base_uri": "https://localhost:8080/"
        },
        "id": "m3VbLWQjjIQl",
        "outputId": "9108f53e-4be4-471d-bc26-491710acceb4"
      },
      "execution_count": null,
      "outputs": [
        {
          "output_type": "execute_result",
          "data": {
            "text/plain": [
              "{'Test MAE': 1.4491560264490948,\n",
              " 'Test MSE': 0.022014959873333673,\n",
              " 'Test R2': 0.5659261750726496,\n",
              " 'Test RMSE': 0.1483743908945667,\n",
              " 'Training MAE': 1.0895950653087128,\n",
              " 'Training MSE': 0.012061128321155884,\n",
              " 'Training R2': 0.7644337955385623,\n",
              " 'Training RMSE': 0.10982316841703249}"
            ]
          },
          "metadata": {},
          "execution_count": 215
        }
      ]
    },
    {
      "cell_type": "code",
      "source": [
        "# The original RandomForest model\n",
        "show_score(rf)"
      ],
      "metadata": {
        "colab": {
          "base_uri": "https://localhost:8080/"
        },
        "id": "9knboPkyjYQH",
        "outputId": "3c48b236-91a3-47ea-8da0-0e7c85e2b287"
      },
      "execution_count": null,
      "outputs": [
        {
          "output_type": "execute_result",
          "data": {
            "text/plain": [
              "{'Test MAE': 1.5157296650717704,\n",
              " 'Test MSE': 0.024190290175117212,\n",
              " 'Test R2': 0.5253587245211205,\n",
              " 'Test RMSE': 0.1555322801707646,\n",
              " 'Training MAE': 0.5804040706375337,\n",
              " 'Training MSE': 0.0034025564104252833,\n",
              " 'Training R2': 0.9357057341721267,\n",
              " 'Training RMSE': 0.05833143586802303}"
            ]
          },
          "metadata": {},
          "execution_count": 216
        }
      ]
    },
    {
      "cell_type": "code",
      "source": [
        "# Check most ideal params\n",
        "rs_model.best_params_"
      ],
      "metadata": {
        "colab": {
          "base_uri": "https://localhost:8080/"
        },
        "id": "X4zTYULdjaRm",
        "outputId": "461a513e-181b-4abd-975b-8eccf11abe3b"
      },
      "execution_count": null,
      "outputs": [
        {
          "output_type": "execute_result",
          "data": {
            "text/plain": [
              "{'max_depth': None,\n",
              " 'max_features': 0.5,\n",
              " 'min_samples_leaf': 5,\n",
              " 'min_samples_split': 5,\n",
              " 'n_estimators': 200}"
            ]
          },
          "metadata": {},
          "execution_count": 217
        }
      ]
    },
    {
      "cell_type": "code",
      "source": [
        "# Ideal model \n",
        "\n",
        "ideal_model = RandomForestRegressor(max_depth=None,\n",
        "                                    max_features=0.5,\n",
        "                                    min_samples_leaf=5,\n",
        "                                    min_samples_split=5,\n",
        "                                    n_estimators=200)\n",
        "# Fit the ideal model\n",
        "ideal_model.fit(X_train, y_train)"
      ],
      "metadata": {
        "colab": {
          "base_uri": "https://localhost:8080/"
        },
        "id": "BqI_z7pXj5GN",
        "outputId": "449f6a87-b4bb-4811-8b4e-eed64b8d7b73"
      },
      "execution_count": null,
      "outputs": [
        {
          "output_type": "execute_result",
          "data": {
            "text/plain": [
              "RandomForestRegressor(max_features=0.5, min_samples_leaf=5, min_samples_split=5,\n",
              "                      n_estimators=200)"
            ]
          },
          "metadata": {},
          "execution_count": 218
        }
      ]
    },
    {
      "cell_type": "code",
      "source": [
        "# The hypertuned ddeal model \n",
        "show_score(ideal_model)"
      ],
      "metadata": {
        "colab": {
          "base_uri": "https://localhost:8080/"
        },
        "id": "OtMMk79EkXPz",
        "outputId": "95738d53-5c4b-416a-a4b7-f2a8120cb36b"
      },
      "execution_count": null,
      "outputs": [
        {
          "output_type": "execute_result",
          "data": {
            "text/plain": [
              "{'Test MAE': 1.4457730373020734,\n",
              " 'Test MSE': 0.02199222177029733,\n",
              " 'Test R2': 0.56495162865973,\n",
              " 'Test RMSE': 0.14829774701692985,\n",
              " 'Training MAE': 1.0888576343547358,\n",
              " 'Training MSE': 0.01203951176407248,\n",
              " 'Training R2': 0.7648223341997986,\n",
              " 'Training RMSE': 0.1097247089951597}"
            ]
          },
          "metadata": {},
          "execution_count": 219
        }
      ]
    },
    {
      "cell_type": "code",
      "source": [
        "# The RandomizedSearchCV model\n",
        "show_score(rs_model)"
      ],
      "metadata": {
        "colab": {
          "base_uri": "https://localhost:8080/"
        },
        "id": "kYFhg8vaAusj",
        "outputId": "a88b731c-0e02-4538-adc6-ea35b4a84dae"
      },
      "execution_count": null,
      "outputs": [
        {
          "output_type": "execute_result",
          "data": {
            "text/plain": [
              "{'Test MAE': 1.4491560264490948,\n",
              " 'Test MSE': 0.022014959873333673,\n",
              " 'Test R2': 0.5659261750726496,\n",
              " 'Test RMSE': 0.1483743908945667,\n",
              " 'Training MAE': 1.0895950653087128,\n",
              " 'Training MSE': 0.012061128321155884,\n",
              " 'Training R2': 0.7644337955385623,\n",
              " 'Training RMSE': 0.10982316841703249}"
            ]
          },
          "metadata": {},
          "execution_count": 220
        }
      ]
    },
    {
      "cell_type": "code",
      "source": [
        "# The original RandomForest model\n",
        "show_score(rf)"
      ],
      "metadata": {
        "colab": {
          "base_uri": "https://localhost:8080/"
        },
        "id": "HBaK26t3Aqpf",
        "outputId": "51e941db-e4a3-404e-9543-61a93b943487"
      },
      "execution_count": null,
      "outputs": [
        {
          "output_type": "execute_result",
          "data": {
            "text/plain": [
              "{'Test MAE': 1.5157296650717704,\n",
              " 'Test MSE': 0.024190290175117212,\n",
              " 'Test R2': 0.5253587245211205,\n",
              " 'Test RMSE': 0.1555322801707646,\n",
              " 'Training MAE': 0.5804040706375337,\n",
              " 'Training MSE': 0.0034025564104252833,\n",
              " 'Training R2': 0.9357057341721267,\n",
              " 'Training RMSE': 0.05833143586802303}"
            ]
          },
          "metadata": {},
          "execution_count": 221
        }
      ]
    },
    {
      "cell_type": "code",
      "source": [
        "# Make predictions on test data\n",
        "test_preds = ideal_model.predict(X_test)\n",
        "test_preds [:20], y_test[:20]"
      ],
      "metadata": {
        "colab": {
          "base_uri": "https://localhost:8080/"
        },
        "id": "CiIywsjFklTI",
        "outputId": "28163ee0-f520-4d51-e609-b72abbe5bc1f"
      },
      "execution_count": null,
      "outputs": [
        {
          "output_type": "execute_result",
          "data": {
            "text/plain": [
              "(array([ 9.78990994, 12.99037089, 10.42034831,  9.32731396, 10.70530536,\n",
              "         9.51485859, 11.55290466, 10.66456084, 12.413214  , 11.36251568,\n",
              "         9.69362166, 13.59006385, 12.31938974, 11.9166098 , 12.23799633,\n",
              "        11.05793061, 13.68903662,  7.29244858, 11.90981212,  7.40328237]),\n",
              " 2374    13.5\n",
              " 3341    13.5\n",
              " 3361    10.5\n",
              " 2574     9.5\n",
              " 1624    10.5\n",
              " 2874     9.5\n",
              " 3908    10.5\n",
              " 1302     9.5\n",
              " 3771    11.5\n",
              " 1024    11.5\n",
              " 629     11.5\n",
              " 890     12.5\n",
              " 585     12.5\n",
              " 2328    16.5\n",
              " 2920    11.5\n",
              " 1766     8.5\n",
              " 778     16.5\n",
              " 4119     5.5\n",
              " 648     12.5\n",
              " 538      6.5\n",
              " Name: Age, dtype: float64)"
            ]
          },
          "metadata": {},
          "execution_count": 222
        }
      ]
    },
    {
      "cell_type": "code",
      "source": [
        "# Visualize predicted and true values\n",
        "\n",
        "fig = plt.figure(figsize=(10, 6))\n",
        "plt.scatter(range(y_test.shape[0]), y_test, color=\"peru\", label=\"y_true\")\n",
        "plt.scatter(range(y_test.shape[0]), test_preds, color=\"darkmagenta\", label=\"test_preds\")\n",
        "plt.legend();"
      ],
      "metadata": {
        "colab": {
          "base_uri": "https://localhost:8080/",
          "height": 374
        },
        "id": "bIKDBzhRlBT6",
        "outputId": "17b72802-d113-4954-e15d-ed5ba3a917a2"
      },
      "execution_count": null,
      "outputs": [
        {
          "output_type": "display_data",
          "data": {
            "text/plain": [
              "<Figure size 720x432 with 1 Axes>"
            ],
            "image/png": "[encoded data removed]"
          },
          "metadata": {
            "needs_background": "light"
          }
        }
      ]
    },
    {
      "cell_type": "code",
      "source": [
        ""
      ],
      "metadata": {
        "id": "giTmqctAIPlV"
      },
      "execution_count": null,
      "outputs": []
    },
    {
      "cell_type": "markdown",
      "source": [
        "## Feature importance"
      ],
      "metadata": {
        "id": "t4ZvB-1OJ1Z8"
      }
    },
    {
      "cell_type": "code",
      "source": [
        "def plot_features(columns, importances, n=20):\n",
        "  df = (pd.DataFrame({\"features\": columns,\n",
        "                      \"feature_importances\": importances})\n",
        "    .sort_values(\"feature_importances\", ascending=False)\n",
        "    .reset_index(drop=True))\n",
        "\n",
        "  #Plot the dataframe\n",
        "  fig, ax = plt.subplots()\n",
        "  ax.barh(df[\"features\"][:n], df[\"feature_importances\"][:20], color=\"skyblue\")\n",
        "  ax.set_ylabel(\"Features\")\n",
        "  ax.set_label(\"Feature importance\")\n",
        "  ax.invert_yaxis()"
      ],
      "metadata": {
        "id": "7_CFy3HjJ4N0"
      },
      "execution_count": null,
      "outputs": []
    },
    {
      "cell_type": "code",
      "source": [
        "plot_features(X_train.columns, ideal_model.feature_importances_)"
      ],
      "metadata": {
        "colab": {
          "base_uri": "https://localhost:8080/",
          "height": 265
        },
        "id": "uc01-qLXLBZi",
        "outputId": "b048f175-4ab2-420f-a89c-50e69f39cfdc"
      },
      "execution_count": null,
      "outputs": [
        {
          "output_type": "display_data",
          "data": {
            "text/plain": [
              "<Figure size 432x288 with 1 Axes>"
            ],
            "image/png": "[encoded data removed]"
          },
          "metadata": {
            "needs_background": "light"
          }
        }
      ]
    },
    {
      "cell_type": "markdown",
      "source": [
        "## Conclusion\n",
        "\n",
        "We can say that the machine could somewhat predict the basic tendencies, but could not account for extremely high or low values."
      ],
      "metadata": {
        "id": "8mBEnZbqJkqx"
      }
    },
    {
      "cell_type": "code",
      "source": [
        ""
      ],
      "metadata": {
        "id": "qI9yasl4Jufr"
      },
      "execution_count": null,
      "outputs": []
    }
  ]
}